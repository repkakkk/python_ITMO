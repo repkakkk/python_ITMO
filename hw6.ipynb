{
 "cells": [
  {
   "cell_type": "code",
   "execution_count": 2,
   "id": "c69fca04",
   "metadata": {},
   "outputs": [],
   "source": [
    "import numpy as np\n",
    "import pandas as pd\n",
    "from sklearn.model_selection import train_test_split \n",
    "from sklearn.dummy import DummyClassifier \n",
    "from sklearn.linear_model import LogisticRegression\n",
    "\n",
    "from sklearn.tree import DecisionTreeClassifier, export_graphviz\n",
    "from sklearn.model_selection import train_test_split, cross_val_score\n",
    "from sklearn.preprocessing import LabelEncoder, OneHotEncoder, MinMaxScaler, StandardScaler\n",
    "from sklearn.neighbors import KNeighborsClassifier\n",
    "from sklearn.inspection import DecisionBoundaryDisplay\n",
    "\n",
    "import matplotlib.pyplot as plt\n",
    "from matplotlib.colors import ListedColormap\n",
    "import seaborn as sns"
   ]
  },
  {
   "cell_type": "markdown",
   "id": "1d549822",
   "metadata": {},
   "source": [
    "# Практическое задание 6"
   ]
  },
  {
   "cell_type": "markdown",
   "id": "800e1ad9",
   "metadata": {},
   "source": [
    "## В этом задании вам предстоит использовать данные о выживаемости на Титанике для построения модели бинарной классификации для признака Survived.\n",
    "\n",
    "### Считайте датасет из файла train.csv (это данные о выживаемости на Титанике)"
   ]
  },
  {
   "cell_type": "code",
   "execution_count": 3,
   "id": "668c074f",
   "metadata": {},
   "outputs": [
    {
     "name": "stdout",
     "output_type": "stream",
     "text": [
      "CPU times: user 5.89 ms, sys: 1.13 ms, total: 7.02 ms\n",
      "Wall time: 6.12 ms\n"
     ]
    }
   ],
   "source": [
    "%%time\n",
    "df = pd.read_csv('train.csv')"
   ]
  },
  {
   "cell_type": "markdown",
   "id": "acde6d23",
   "metadata": {},
   "source": [
    "### Выберите и обоснуйте метрику для измерения качества (accuracy/precision/recall/f1-score/fbeta-score/roc-auc и т.д.). В рамках данного пункта необходимо подобрать наиболее релевантную метрику или набор метрик для вашей задачи, написав краткое обоснование (1-2 предложения) - 2 балла"
   ]
  },
  {
   "cell_type": "markdown",
   "id": "79e3764d",
   "metadata": {},
   "source": [
    "Решаемая задача относится к бинарной классификации. Для таких задач годятся метрики accuracy, precision, recall, F1-мера (комбинация precision и recall). Метрика accuracy (точность) может давать некорректные оценки, когда объектов одного класса сильно больше, чем другого, но это не наш случай, так как процент выживаемости по всему кораблю составил порядка 30%. Поэтому будем использовать все указанные метрики.  \n",
    "\n",
    "### Предобработка данных"
   ]
  },
  {
   "cell_type": "code",
   "execution_count": 4,
   "id": "367169e3",
   "metadata": {},
   "outputs": [],
   "source": [
    "df = df.drop(columns = ['Name', 'Ticket', 'Cabin', 'Embarked'])"
   ]
  },
  {
   "cell_type": "code",
   "execution_count": 5,
   "id": "accb8426",
   "metadata": {},
   "outputs": [
    {
     "data": {
      "text/html": [
       "<div>\n",
       "<style scoped>\n",
       "    .dataframe tbody tr th:only-of-type {\n",
       "        vertical-align: middle;\n",
       "    }\n",
       "\n",
       "    .dataframe tbody tr th {\n",
       "        vertical-align: top;\n",
       "    }\n",
       "\n",
       "    .dataframe thead th {\n",
       "        text-align: right;\n",
       "    }\n",
       "</style>\n",
       "<table border=\"1\" class=\"dataframe\">\n",
       "  <thead>\n",
       "    <tr style=\"text-align: right;\">\n",
       "      <th></th>\n",
       "      <th>PassengerId</th>\n",
       "      <th>Survived</th>\n",
       "      <th>Pclass</th>\n",
       "      <th>Age</th>\n",
       "      <th>SibSp</th>\n",
       "      <th>Parch</th>\n",
       "      <th>Fare</th>\n",
       "      <th>Sex_male</th>\n",
       "    </tr>\n",
       "  </thead>\n",
       "  <tbody>\n",
       "    <tr>\n",
       "      <th>0</th>\n",
       "      <td>1</td>\n",
       "      <td>0</td>\n",
       "      <td>3</td>\n",
       "      <td>22.0</td>\n",
       "      <td>1</td>\n",
       "      <td>0</td>\n",
       "      <td>7.2500</td>\n",
       "      <td>True</td>\n",
       "    </tr>\n",
       "    <tr>\n",
       "      <th>1</th>\n",
       "      <td>2</td>\n",
       "      <td>1</td>\n",
       "      <td>1</td>\n",
       "      <td>38.0</td>\n",
       "      <td>1</td>\n",
       "      <td>0</td>\n",
       "      <td>71.2833</td>\n",
       "      <td>False</td>\n",
       "    </tr>\n",
       "    <tr>\n",
       "      <th>2</th>\n",
       "      <td>3</td>\n",
       "      <td>1</td>\n",
       "      <td>3</td>\n",
       "      <td>26.0</td>\n",
       "      <td>0</td>\n",
       "      <td>0</td>\n",
       "      <td>7.9250</td>\n",
       "      <td>False</td>\n",
       "    </tr>\n",
       "    <tr>\n",
       "      <th>3</th>\n",
       "      <td>4</td>\n",
       "      <td>1</td>\n",
       "      <td>1</td>\n",
       "      <td>35.0</td>\n",
       "      <td>1</td>\n",
       "      <td>0</td>\n",
       "      <td>53.1000</td>\n",
       "      <td>False</td>\n",
       "    </tr>\n",
       "    <tr>\n",
       "      <th>4</th>\n",
       "      <td>5</td>\n",
       "      <td>0</td>\n",
       "      <td>3</td>\n",
       "      <td>35.0</td>\n",
       "      <td>0</td>\n",
       "      <td>0</td>\n",
       "      <td>8.0500</td>\n",
       "      <td>True</td>\n",
       "    </tr>\n",
       "  </tbody>\n",
       "</table>\n",
       "</div>"
      ],
      "text/plain": [
       "   PassengerId  Survived  Pclass   Age  SibSp  Parch     Fare  Sex_male\n",
       "0            1         0       3  22.0      1      0   7.2500      True\n",
       "1            2         1       1  38.0      1      0  71.2833     False\n",
       "2            3         1       3  26.0      0      0   7.9250     False\n",
       "3            4         1       1  35.0      1      0  53.1000     False\n",
       "4            5         0       3  35.0      0      0   8.0500      True"
      ]
     },
     "execution_count": 5,
     "metadata": {},
     "output_type": "execute_result"
    }
   ],
   "source": [
    "ohe = OneHotEncoder()\n",
    "res = ohe.fit_transform(df['Sex'].to_numpy().reshape(-1, 1))\n",
    "ohe_df = pd.DataFrame(res.toarray(), columns=ohe.get_feature_names_out())\n",
    "res = pd.get_dummies(df['Sex'], prefix='Sex', drop_first=True)\n",
    "data = pd.concat([df, res], axis=1).drop(columns = ['Sex']).dropna() \n",
    "data.head()"
   ]
  },
  {
   "cell_type": "markdown",
   "id": "ca08ed81",
   "metadata": {},
   "source": [
    "#### Проверка на мультиколлинеарность: все ОК"
   ]
  },
  {
   "cell_type": "code",
   "execution_count": 6,
   "id": "dbf36d7d",
   "metadata": {},
   "outputs": [
    {
     "data": {
      "image/png": "[encoded data removed]",
      "text/plain": [
       "<Figure size 800x800 with 2 Axes>"
      ]
     },
     "metadata": {},
     "output_type": "display_data"
    }
   ],
   "source": [
    "corrs = data.corr()\n",
    "upper_tri = corrs.where(np.triu(np.ones(corrs.shape), k=1).astype(bool))\n",
    "plt.figure(figsize=(8, 8))\n",
    "sns.heatmap(upper_tri, cmap=\"RdYlBu_r\", square=True, annot=True);"
   ]
  },
  {
   "cell_type": "markdown",
   "id": "96e85f08",
   "metadata": {},
   "source": [
    "### Произведено разбиение датасета на тренировочную/тестовую выборки - 1 балл\n"
   ]
  },
  {
   "cell_type": "code",
   "execution_count": 7,
   "id": "2941a72f",
   "metadata": {},
   "outputs": [],
   "source": [
    "y = data[\"Survived\"] \n",
    "X = data.drop(columns = ['Survived']) \n",
    "\n",
    "X_train, X_test, y_train, y_test = train_test_split(X, y, random_state=2024, test_size=0.25) "
   ]
  },
  {
   "cell_type": "markdown",
   "id": "eb09b38c",
   "metadata": {},
   "source": [
    "### Произведено измерение качества константного предсказания (например, наиболее частотный класс/случайное предсказание) - 1 балл"
   ]
  },
  {
   "cell_type": "code",
   "execution_count": 8,
   "id": "1b42eaeb",
   "metadata": {},
   "outputs": [],
   "source": [
    "dummy_clf = DummyClassifier(strategy=\"most_frequent\") \n",
    "dummy_clf.fit(X_train, y_train);"
   ]
  },
  {
   "cell_type": "markdown",
   "id": "7cf11889",
   "metadata": {},
   "source": [
    "### ML-модель обучена на тренировочной выборке, учтены особенности предобработки данных для модели, если они есть - 3 балла"
   ]
  },
  {
   "cell_type": "code",
   "execution_count": 9,
   "id": "b8e5429d",
   "metadata": {
    "scrolled": true
   },
   "outputs": [
    {
     "name": "stderr",
     "output_type": "stream",
     "text": [
      "/home/elobanova/.local/lib/python3.12/site-packages/sklearn/linear_model/_logistic.py:469: ConvergenceWarning: lbfgs failed to converge (status=1):\n",
      "STOP: TOTAL NO. of ITERATIONS REACHED LIMIT.\n",
      "\n",
      "Increase the number of iterations (max_iter) or scale the data as shown in:\n",
      "    https://scikit-learn.org/stable/modules/preprocessing.html\n",
      "Please also refer to the documentation for alternative solver options:\n",
      "    https://scikit-learn.org/stable/modules/linear_model.html#logistic-regression\n",
      "  n_iter_i = _check_optimize_result(\n"
     ]
    }
   ],
   "source": [
    "log_reg = LogisticRegression()\n",
    "log_reg.fit(X_train, y_train);"
   ]
  },
  {
   "cell_type": "markdown",
   "id": "a143958e",
   "metadata": {},
   "source": [
    "### Произведено измерение качества на отложенной выборке с использованием ранее выбранной метрики - 1 балл"
   ]
  },
  {
   "cell_type": "code",
   "execution_count": 10,
   "id": "8a08683a",
   "metadata": {},
   "outputs": [],
   "source": [
    "from sklearn.metrics import accuracy_score, precision_score, recall_score, f1_score"
   ]
  },
  {
   "cell_type": "code",
   "execution_count": 11,
   "id": "7f47d3b2",
   "metadata": {},
   "outputs": [
    {
     "name": "stdout",
     "output_type": "stream",
     "text": [
      "Accuracy for Dummy Classificator: 0.6089385474860335\n",
      "Accuracy for Logistic regression: 0.770949720670391\n"
     ]
    }
   ],
   "source": [
    "y_pred_dummy = dummy_clf.predict(X_test) \n",
    "y_pred_log_reg = log_reg.predict(X_test) \n",
    "print(f'Accuracy for Dummy Classificator: {accuracy_score(y_test, y_pred_dummy)}')\n",
    "print(f'Accuracy for Logistic regression: {accuracy_score(y_test, y_pred_log_reg)}')"
   ]
  },
  {
   "cell_type": "code",
   "execution_count": 12,
   "id": "afbe8641",
   "metadata": {},
   "outputs": [
    {
     "name": "stdout",
     "output_type": "stream",
     "text": [
      "Precision for Dummy Classificator: 0.0\n",
      "Precision for Logistic regression: 0.7230769230769231\n"
     ]
    }
   ],
   "source": [
    "print(f'Precision for Dummy Classificator: {precision_score(y_test, y_pred_dummy, zero_division=0)}')\n",
    "print(f'Precision for Logistic regression: {precision_score(y_test, y_pred_log_reg, zero_division=0)}')"
   ]
  },
  {
   "cell_type": "code",
   "execution_count": 13,
   "id": "84e020d1",
   "metadata": {},
   "outputs": [
    {
     "name": "stdout",
     "output_type": "stream",
     "text": [
      "Recall for Dummy Classificator: 0.0\n",
      "Recall for Logistic regression: 0.6714285714285714\n"
     ]
    }
   ],
   "source": [
    "print(f'Recall for Dummy Classificator: {recall_score(y_test, y_pred_dummy)}')\n",
    "print(f'Recall for Logistic regression: {recall_score(y_test, y_pred_log_reg)}')"
   ]
  },
  {
   "cell_type": "code",
   "execution_count": 14,
   "id": "178ee5ae",
   "metadata": {},
   "outputs": [
    {
     "name": "stdout",
     "output_type": "stream",
     "text": [
      "F1-score for Dummy Classificator: 0.0\n",
      "F1-score for Logistic regression: 0.6962962962962963\n"
     ]
    }
   ],
   "source": [
    "print(f'F1-score for Dummy Classificator: {f1_score(y_test, y_pred_dummy)}')\n",
    "print(f'F1-score for Logistic regression: {f1_score(y_test, y_pred_log_reg)}')"
   ]
  },
  {
   "cell_type": "markdown",
   "id": "580cdd4e",
   "metadata": {},
   "source": [
    "### Обеспечена воспроизводимость решения: зафиксированы random_state, ноутбук воспроизводится от начала до конца без ошибок - 2 балла"
   ]
  }
 ],
 "metadata": {
  "kernelspec": {
   "display_name": "Python 3 (ipykernel)",
   "language": "python",
   "name": "python3"
  },
  "language_info": {
   "codemirror_mode": {
    "name": "ipython",
    "version": 3
   },
   "file_extension": ".py",
   "mimetype": "text/x-python",
   "name": "python",
   "nbconvert_exporter": "python",
   "pygments_lexer": "ipython3",
   "version": "3.12.3"
  }
 },
 "nbformat": 4,
 "nbformat_minor": 5
}
