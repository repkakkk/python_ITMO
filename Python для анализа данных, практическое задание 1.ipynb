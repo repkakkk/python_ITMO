{
 "cells": [
  {
   "cell_type": "code",
   "execution_count": 1,
   "id": "d0f31dc8",
   "metadata": {},
   "outputs": [],
   "source": [
    "class Chocolate():\n",
    "    def __init__(self, price: float, taste: str = None):\n",
    "        if price < 0: raise ValueError('Цена должна быть больше либо равна нулю')\n",
    "        self.price = price\n",
    "        self.taste = taste\n",
    "        \n",
    "    def show_my_chocolate(self):\n",
    "        if self.taste is None: \n",
    "            return 'Обычный шоколадный батончик'\n",
    "        else:\n",
    "            return f'Шоколадный батончик, добавка: {self.taste}'\n",
    "        \n",
    "    def __str__(self):\n",
    "        return f\"Шоколадный батончик, {self.price} рублей\"\n",
    "    "
   ]
  },
  {
   "cell_type": "code",
   "execution_count": 27,
   "id": "ddaab943",
   "metadata": {},
   "outputs": [],
   "source": [
    "a = Chocolate(10)"
   ]
  },
  {
   "cell_type": "code",
   "execution_count": 28,
   "id": "7eb2351a",
   "metadata": {},
   "outputs": [
    {
     "name": "stdout",
     "output_type": "stream",
     "text": [
      "Шоколадный батончик, 10 рублей\n"
     ]
    }
   ],
   "source": [
    "print(a)"
   ]
  },
  {
   "cell_type": "code",
   "execution_count": 29,
   "id": "934b2784",
   "metadata": {},
   "outputs": [
    {
     "data": {
      "text/plain": [
       "'Обычный шоколадный батончик'"
      ]
     },
     "execution_count": 29,
     "metadata": {},
     "output_type": "execute_result"
    }
   ],
   "source": [
    "a.show_my_chocolate()"
   ]
  },
  {
   "cell_type": "code",
   "execution_count": 30,
   "id": "06ce40a4",
   "metadata": {},
   "outputs": [],
   "source": [
    "b = Chocolate(100, 'апельсин')"
   ]
  },
  {
   "cell_type": "code",
   "execution_count": 31,
   "id": "34d3bdf9",
   "metadata": {},
   "outputs": [
    {
     "data": {
      "text/plain": [
       "'Шоколадный батончик, добавка: апельсин'"
      ]
     },
     "execution_count": 31,
     "metadata": {},
     "output_type": "execute_result"
    }
   ],
   "source": [
    "b.show_my_chocolate()"
   ]
  },
  {
   "cell_type": "code",
   "execution_count": 32,
   "id": "b980be03",
   "metadata": {},
   "outputs": [
    {
     "name": "stdout",
     "output_type": "stream",
     "text": [
      "Шоколадный батончик, 100 рублей\n"
     ]
    }
   ],
   "source": [
    "print(b)"
   ]
  },
  {
   "cell_type": "code",
   "execution_count": 33,
   "id": "0605d886",
   "metadata": {},
   "outputs": [
    {
     "ename": "ValueError",
     "evalue": "Цена должна быть больше либо равна нулю",
     "output_type": "error",
     "traceback": [
      "\u001b[0;31m---------------------------------------------------------------------------\u001b[0m",
      "\u001b[0;31mValueError\u001b[0m                                Traceback (most recent call last)",
      "Cell \u001b[0;32mIn[33], line 1\u001b[0m\n\u001b[0;32m----> 1\u001b[0m c \u001b[38;5;241m=\u001b[39m \u001b[43mChocolate\u001b[49m\u001b[43m(\u001b[49m\u001b[38;5;241;43m-\u001b[39;49m\u001b[38;5;241;43m1\u001b[39;49m\u001b[43m)\u001b[49m\n",
      "Cell \u001b[0;32mIn[17], line 3\u001b[0m, in \u001b[0;36mChocolate.__init__\u001b[0;34m(self, price, taste)\u001b[0m\n\u001b[1;32m      2\u001b[0m \u001b[38;5;28;01mdef\u001b[39;00m \u001b[38;5;21m__init__\u001b[39m(\u001b[38;5;28mself\u001b[39m, price: \u001b[38;5;28mfloat\u001b[39m, taste: \u001b[38;5;28mstr\u001b[39m \u001b[38;5;241m=\u001b[39m \u001b[38;5;28;01mNone\u001b[39;00m):\n\u001b[0;32m----> 3\u001b[0m     \u001b[38;5;28;01mif\u001b[39;00m price \u001b[38;5;241m<\u001b[39m \u001b[38;5;241m0\u001b[39m: \u001b[38;5;28;01mraise\u001b[39;00m \u001b[38;5;167;01mValueError\u001b[39;00m(\u001b[38;5;124m'\u001b[39m\u001b[38;5;124mЦена должна быть больше либо равна нулю\u001b[39m\u001b[38;5;124m'\u001b[39m)\n\u001b[1;32m      4\u001b[0m     \u001b[38;5;28mself\u001b[39m\u001b[38;5;241m.\u001b[39mprice \u001b[38;5;241m=\u001b[39m price\n\u001b[1;32m      5\u001b[0m     \u001b[38;5;28mself\u001b[39m\u001b[38;5;241m.\u001b[39mtaste \u001b[38;5;241m=\u001b[39m taste\n",
      "\u001b[0;31mValueError\u001b[0m: Цена должна быть больше либо равна нулю"
     ]
    }
   ],
   "source": [
    "c = Chocolate(-1)"
   ]
  },
  {
   "cell_type": "code",
   "execution_count": 2,
   "id": "417a3ffe",
   "metadata": {},
   "outputs": [
    {
     "name": "stdout",
     "output_type": "stream",
     "text": [
      "Object `show_my_chocolate` not found.\n"
     ]
    }
   ],
   "source": [
    "show_my_chocolate??"
   ]
  },
  {
   "cell_type": "code",
   "execution_count": 3,
   "id": "40a1d062",
   "metadata": {},
   "outputs": [],
   "source": [
    "import matplotlib.pyplot as plt"
   ]
  },
  {
   "cell_type": "code",
   "execution_count": 5,
   "id": "eaa3c340",
   "metadata": {},
   "outputs": [
    {
     "name": "stdout",
     "output_type": "stream",
     "text": [
      "Object `matplotlib.pyplot` not found.\n"
     ]
    }
   ],
   "source": [
    "matplotlib.pyplot??"
   ]
  },
  {
   "cell_type": "code",
   "execution_count": 6,
   "id": "cde3539a",
   "metadata": {},
   "outputs": [],
   "source": [
    "def fun():\n",
    "    res = 0\n",
    "    for i in range(201): res += i\n",
    "    return res"
   ]
  },
  {
   "cell_type": "code",
   "execution_count": 7,
   "id": "2de38d3b",
   "metadata": {},
   "outputs": [
    {
     "name": "stdout",
     "output_type": "stream",
     "text": [
      "CPU times: user 16 µs, sys: 0 ns, total: 16 µs\n",
      "Wall time: 19.6 µs\n"
     ]
    },
    {
     "data": {
      "text/plain": [
       "20100"
      ]
     },
     "execution_count": 7,
     "metadata": {},
     "output_type": "execute_result"
    }
   ],
   "source": [
    "%%time\n",
    "fun()"
   ]
  },
  {
   "cell_type": "code",
   "execution_count": 8,
   "id": "46f2a2ec",
   "metadata": {},
   "outputs": [
    {
     "name": "stdout",
     "output_type": "stream",
     "text": [
      " "
     ]
    }
   ],
   "source": [
    "%prun fun()"
   ]
  },
  {
   "cell_type": "code",
   "execution_count": 9,
   "id": "8d548800",
   "metadata": {},
   "outputs": [
    {
     "name": "stdout",
     "output_type": "stream",
     "text": [
      "Writing test.py\n"
     ]
    }
   ],
   "source": [
    "%%writefile test.py\n",
    "\n",
    "def fun():\n",
    "    res = 0\n",
    "    for i in range(201): res += i\n",
    "    return res"
   ]
  },
  {
   "cell_type": "code",
   "execution_count": 11,
   "id": "7f73c09d",
   "metadata": {},
   "outputs": [],
   "source": [
    "%pycat test.py"
   ]
  },
  {
   "cell_type": "code",
   "execution_count": null,
   "id": "838f45f9",
   "metadata": {},
   "outputs": [],
   "source": []
  }
 ],
 "metadata": {
  "kernelspec": {
   "display_name": "Python 3 (ipykernel)",
   "language": "python",
   "name": "python3"
  },
  "language_info": {
   "codemirror_mode": {
    "name": "ipython",
    "version": 3
   },
   "file_extension": ".py",
   "mimetype": "text/x-python",
   "name": "python",
   "nbconvert_exporter": "python",
   "pygments_lexer": "ipython3",
   "version": "3.12.3"
  }
 },
 "nbformat": 4,
 "nbformat_minor": 5
}
