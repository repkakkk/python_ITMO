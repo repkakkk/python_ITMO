{
 "cells": [
  {
   "cell_type": "code",
   "execution_count": 1,
   "id": "c69fca04",
   "metadata": {},
   "outputs": [],
   "source": [
    "import numpy as np\n",
    "import pandas as pd\n",
    "import polars as pl\n",
    "import bottleneck as bn"
   ]
  },
  {
   "cell_type": "markdown",
   "id": "1d549822",
   "metadata": {},
   "source": [
    "# Polars"
   ]
  },
  {
   "cell_type": "markdown",
   "id": "800e1ad9",
   "metadata": {},
   "source": [
    "## 1 Считайте датасет из файла train.csv (это данные о выживаемости на Титанике) с помощью polars - 1 балл"
   ]
  },
  {
   "cell_type": "code",
   "execution_count": 5,
   "id": "668c074f",
   "metadata": {},
   "outputs": [
    {
     "name": "stdout",
     "output_type": "stream",
     "text": [
      "CPU times: user 1.73 ms, sys: 2.12 ms, total: 3.85 ms\n",
      "Wall time: 1.24 ms\n"
     ]
    }
   ],
   "source": [
    "%%time\n",
    "df = pl.read_csv('train.csv')"
   ]
  },
  {
   "cell_type": "markdown",
   "id": "acde6d23",
   "metadata": {},
   "source": [
    "## 2 Выведите основную информацию о датасете: информацию о типах данных, число пропусков, средние значения и т.д. - 1 балл"
   ]
  },
  {
   "cell_type": "code",
   "execution_count": 6,
   "id": "25bd7bc2",
   "metadata": {},
   "outputs": [
    {
     "data": {
      "text/html": [
       "<div><style>\n",
       ".dataframe > thead > tr,\n",
       ".dataframe > tbody > tr {\n",
       "  text-align: right;\n",
       "  white-space: pre-wrap;\n",
       "}\n",
       "</style>\n",
       "<small>shape: (9, 13)</small><table border=\"1\" class=\"dataframe\"><thead><tr><th>statistic</th><th>PassengerId</th><th>Survived</th><th>Pclass</th><th>Name</th><th>Sex</th><th>Age</th><th>SibSp</th><th>Parch</th><th>Ticket</th><th>Fare</th><th>Cabin</th><th>Embarked</th></tr><tr><td>str</td><td>f64</td><td>f64</td><td>f64</td><td>str</td><td>str</td><td>f64</td><td>f64</td><td>f64</td><td>str</td><td>f64</td><td>str</td><td>str</td></tr></thead><tbody><tr><td>&quot;count&quot;</td><td>891.0</td><td>891.0</td><td>891.0</td><td>&quot;891&quot;</td><td>&quot;891&quot;</td><td>714.0</td><td>891.0</td><td>891.0</td><td>&quot;891&quot;</td><td>891.0</td><td>&quot;204&quot;</td><td>&quot;889&quot;</td></tr><tr><td>&quot;null_count&quot;</td><td>0.0</td><td>0.0</td><td>0.0</td><td>&quot;0&quot;</td><td>&quot;0&quot;</td><td>177.0</td><td>0.0</td><td>0.0</td><td>&quot;0&quot;</td><td>0.0</td><td>&quot;687&quot;</td><td>&quot;2&quot;</td></tr><tr><td>&quot;mean&quot;</td><td>446.0</td><td>0.383838</td><td>2.308642</td><td>null</td><td>null</td><td>29.699118</td><td>0.523008</td><td>0.381594</td><td>null</td><td>32.204208</td><td>null</td><td>null</td></tr><tr><td>&quot;std&quot;</td><td>257.353842</td><td>0.486592</td><td>0.836071</td><td>null</td><td>null</td><td>14.526497</td><td>1.102743</td><td>0.806057</td><td>null</td><td>49.693429</td><td>null</td><td>null</td></tr><tr><td>&quot;min&quot;</td><td>1.0</td><td>0.0</td><td>1.0</td><td>&quot;Abbing, Mr. Anthony&quot;</td><td>&quot;female&quot;</td><td>0.42</td><td>0.0</td><td>0.0</td><td>&quot;110152&quot;</td><td>0.0</td><td>&quot;A10&quot;</td><td>&quot;C&quot;</td></tr><tr><td>&quot;25%&quot;</td><td>224.0</td><td>0.0</td><td>2.0</td><td>null</td><td>null</td><td>20.0</td><td>0.0</td><td>0.0</td><td>null</td><td>7.925</td><td>null</td><td>null</td></tr><tr><td>&quot;50%&quot;</td><td>446.0</td><td>0.0</td><td>3.0</td><td>null</td><td>null</td><td>28.0</td><td>0.0</td><td>0.0</td><td>null</td><td>14.4542</td><td>null</td><td>null</td></tr><tr><td>&quot;75%&quot;</td><td>669.0</td><td>1.0</td><td>3.0</td><td>null</td><td>null</td><td>38.0</td><td>1.0</td><td>0.0</td><td>null</td><td>31.0</td><td>null</td><td>null</td></tr><tr><td>&quot;max&quot;</td><td>891.0</td><td>1.0</td><td>3.0</td><td>&quot;van Melkebeke, Mr. Philemon&quot;</td><td>&quot;male&quot;</td><td>80.0</td><td>8.0</td><td>6.0</td><td>&quot;WE/P 5735&quot;</td><td>512.3292</td><td>&quot;T&quot;</td><td>&quot;S&quot;</td></tr></tbody></table></div>"
      ],
      "text/plain": [
       "shape: (9, 13)\n",
       "┌────────────┬─────────────┬──────────┬──────────┬───┬───────────┬───────────┬───────┬──────────┐\n",
       "│ statistic  ┆ PassengerId ┆ Survived ┆ Pclass   ┆ … ┆ Ticket    ┆ Fare      ┆ Cabin ┆ Embarked │\n",
       "│ ---        ┆ ---         ┆ ---      ┆ ---      ┆   ┆ ---       ┆ ---       ┆ ---   ┆ ---      │\n",
       "│ str        ┆ f64         ┆ f64      ┆ f64      ┆   ┆ str       ┆ f64       ┆ str   ┆ str      │\n",
       "╞════════════╪═════════════╪══════════╪══════════╪═══╪═══════════╪═══════════╪═══════╪══════════╡\n",
       "│ count      ┆ 891.0       ┆ 891.0    ┆ 891.0    ┆ … ┆ 891       ┆ 891.0     ┆ 204   ┆ 889      │\n",
       "│ null_count ┆ 0.0         ┆ 0.0      ┆ 0.0      ┆ … ┆ 0         ┆ 0.0       ┆ 687   ┆ 2        │\n",
       "│ mean       ┆ 446.0       ┆ 0.383838 ┆ 2.308642 ┆ … ┆ null      ┆ 32.204208 ┆ null  ┆ null     │\n",
       "│ std        ┆ 257.353842  ┆ 0.486592 ┆ 0.836071 ┆ … ┆ null      ┆ 49.693429 ┆ null  ┆ null     │\n",
       "│ min        ┆ 1.0         ┆ 0.0      ┆ 1.0      ┆ … ┆ 110152    ┆ 0.0       ┆ A10   ┆ C        │\n",
       "│ 25%        ┆ 224.0       ┆ 0.0      ┆ 2.0      ┆ … ┆ null      ┆ 7.925     ┆ null  ┆ null     │\n",
       "│ 50%        ┆ 446.0       ┆ 0.0      ┆ 3.0      ┆ … ┆ null      ┆ 14.4542   ┆ null  ┆ null     │\n",
       "│ 75%        ┆ 669.0       ┆ 1.0      ┆ 3.0      ┆ … ┆ null      ┆ 31.0      ┆ null  ┆ null     │\n",
       "│ max        ┆ 891.0       ┆ 1.0      ┆ 3.0      ┆ … ┆ WE/P 5735 ┆ 512.3292  ┆ T     ┆ S        │\n",
       "└────────────┴─────────────┴──────────┴──────────┴───┴───────────┴───────────┴───────┴──────────┘"
      ]
     },
     "execution_count": 6,
     "metadata": {},
     "output_type": "execute_result"
    }
   ],
   "source": [
    "df.describe()"
   ]
  },
  {
   "cell_type": "code",
   "execution_count": 8,
   "id": "16fac845",
   "metadata": {},
   "outputs": [
    {
     "data": {
      "text/plain": [
       "[Int64,\n",
       " Int64,\n",
       " Int64,\n",
       " String,\n",
       " String,\n",
       " Float64,\n",
       " Int64,\n",
       " Int64,\n",
       " String,\n",
       " Float64,\n",
       " String,\n",
       " String]"
      ]
     },
     "execution_count": 8,
     "metadata": {},
     "output_type": "execute_result"
    }
   ],
   "source": [
    "df.dtypes"
   ]
  },
  {
   "cell_type": "code",
   "execution_count": 9,
   "id": "48f11037",
   "metadata": {},
   "outputs": [
    {
     "data": {
      "text/html": [
       "<div><style>\n",
       ".dataframe > thead > tr,\n",
       ".dataframe > tbody > tr {\n",
       "  text-align: right;\n",
       "  white-space: pre-wrap;\n",
       "}\n",
       "</style>\n",
       "<small>shape: (1, 12)</small><table border=\"1\" class=\"dataframe\"><thead><tr><th>PassengerId</th><th>Survived</th><th>Pclass</th><th>Name</th><th>Sex</th><th>Age</th><th>SibSp</th><th>Parch</th><th>Ticket</th><th>Fare</th><th>Cabin</th><th>Embarked</th></tr><tr><td>u32</td><td>u32</td><td>u32</td><td>u32</td><td>u32</td><td>u32</td><td>u32</td><td>u32</td><td>u32</td><td>u32</td><td>u32</td><td>u32</td></tr></thead><tbody><tr><td>0</td><td>0</td><td>0</td><td>0</td><td>0</td><td>177</td><td>0</td><td>0</td><td>0</td><td>0</td><td>687</td><td>2</td></tr></tbody></table></div>"
      ],
      "text/plain": [
       "shape: (1, 12)\n",
       "┌─────────────┬──────────┬────────┬──────┬───┬────────┬──────┬───────┬──────────┐\n",
       "│ PassengerId ┆ Survived ┆ Pclass ┆ Name ┆ … ┆ Ticket ┆ Fare ┆ Cabin ┆ Embarked │\n",
       "│ ---         ┆ ---      ┆ ---    ┆ ---  ┆   ┆ ---    ┆ ---  ┆ ---   ┆ ---      │\n",
       "│ u32         ┆ u32      ┆ u32    ┆ u32  ┆   ┆ u32    ┆ u32  ┆ u32   ┆ u32      │\n",
       "╞═════════════╪══════════╪════════╪══════╪═══╪════════╪══════╪═══════╪══════════╡\n",
       "│ 0           ┆ 0        ┆ 0      ┆ 0    ┆ … ┆ 0      ┆ 0    ┆ 687   ┆ 2        │\n",
       "└─────────────┴──────────┴────────┴──────┴───┴────────┴──────┴───────┴──────────┘"
      ]
     },
     "execution_count": 9,
     "metadata": {},
     "output_type": "execute_result"
    }
   ],
   "source": [
    "df.null_count()"
   ]
  },
  {
   "cell_type": "code",
   "execution_count": 10,
   "id": "d0aa00f1",
   "metadata": {},
   "outputs": [
    {
     "data": {
      "text/html": [
       "<div><style>\n",
       ".dataframe > thead > tr,\n",
       ".dataframe > tbody > tr {\n",
       "  text-align: right;\n",
       "  white-space: pre-wrap;\n",
       "}\n",
       "</style>\n",
       "<small>shape: (1, 12)</small><table border=\"1\" class=\"dataframe\"><thead><tr><th>PassengerId</th><th>Survived</th><th>Pclass</th><th>Name</th><th>Sex</th><th>Age</th><th>SibSp</th><th>Parch</th><th>Ticket</th><th>Fare</th><th>Cabin</th><th>Embarked</th></tr><tr><td>f64</td><td>f64</td><td>f64</td><td>str</td><td>str</td><td>f64</td><td>f64</td><td>f64</td><td>str</td><td>f64</td><td>str</td><td>str</td></tr></thead><tbody><tr><td>446.0</td><td>0.383838</td><td>2.308642</td><td>null</td><td>null</td><td>29.699118</td><td>0.523008</td><td>0.381594</td><td>null</td><td>32.204208</td><td>null</td><td>null</td></tr></tbody></table></div>"
      ],
      "text/plain": [
       "shape: (1, 12)\n",
       "┌─────────────┬──────────┬──────────┬──────┬───┬────────┬───────────┬───────┬──────────┐\n",
       "│ PassengerId ┆ Survived ┆ Pclass   ┆ Name ┆ … ┆ Ticket ┆ Fare      ┆ Cabin ┆ Embarked │\n",
       "│ ---         ┆ ---      ┆ ---      ┆ ---  ┆   ┆ ---    ┆ ---       ┆ ---   ┆ ---      │\n",
       "│ f64         ┆ f64      ┆ f64      ┆ str  ┆   ┆ str    ┆ f64       ┆ str   ┆ str      │\n",
       "╞═════════════╪══════════╪══════════╪══════╪═══╪════════╪═══════════╪═══════╪══════════╡\n",
       "│ 446.0       ┆ 0.383838 ┆ 2.308642 ┆ null ┆ … ┆ null   ┆ 32.204208 ┆ null  ┆ null     │\n",
       "└─────────────┴──────────┴──────────┴──────┴───┴────────┴───────────┴───────┴──────────┘"
      ]
     },
     "execution_count": 10,
     "metadata": {},
     "output_type": "execute_result"
    }
   ],
   "source": [
    "df.mean()"
   ]
  },
  {
   "cell_type": "markdown",
   "id": "7f74799b",
   "metadata": {},
   "source": [
    "\n",
    "## 3 Посчитайте количество пассажиров каждого класса (Pclass) - 1 балл"
   ]
  },
  {
   "cell_type": "code",
   "execution_count": null,
   "id": "a96deea6",
   "metadata": {},
   "outputs": [],
   "source": [
    "df.get_column('Pclass').value_counts()"
   ]
  },
  {
   "cell_type": "markdown",
   "id": "f709cbcb",
   "metadata": {},
   "source": [
    "## 4 Выведите количество выживших мужчин и женщин на корабле - 1 балл"
   ]
  },
  {
   "cell_type": "code",
   "execution_count": null,
   "id": "0442c914",
   "metadata": {},
   "outputs": [],
   "source": [
    "df.group_by('Sex').agg(pl.sum('Survived'))"
   ]
  },
  {
   "cell_type": "markdown",
   "id": "56d5b038",
   "metadata": {},
   "source": [
    "## 5 Выведите часть таблицы с пассажирами, возраст которых больше 44 лет - 1 балл"
   ]
  },
  {
   "cell_type": "code",
   "execution_count": null,
   "id": "61526eb8",
   "metadata": {},
   "outputs": [],
   "source": [
    "df.filter(pl.col('Age') > 44)"
   ]
  },
  {
   "cell_type": "markdown",
   "id": "7a798fde",
   "metadata": {},
   "source": [
    "# Ускорение работы с pandas"
   ]
  },
  {
   "cell_type": "markdown",
   "id": "dc628c28",
   "metadata": {},
   "source": [
    "## 1 Считайте датасет из файла train.csv (это данные о выживаемости на Титанике) с помощью pandas"
   ]
  },
  {
   "cell_type": "code",
   "execution_count": null,
   "id": "44257daa",
   "metadata": {},
   "outputs": [],
   "source": [
    "%%time\n",
    "df = pd.read_csv('train.csv')"
   ]
  },
  {
   "cell_type": "markdown",
   "id": "c9cb637e",
   "metadata": {},
   "source": [
    "## 2 Посчитайте средний возраст пассажиров и его стандартное отклонение с помощью bottleneck - 1 бал\n",
    "hint: используйте методы: bn.nanmean(), bn.nanstd()"
   ]
  },
  {
   "cell_type": "code",
   "execution_count": null,
   "id": "52f37128",
   "metadata": {},
   "outputs": [],
   "source": [
    "bn.nanmean(df['Age'])"
   ]
  },
  {
   "cell_type": "code",
   "execution_count": null,
   "id": "840a0fed",
   "metadata": {},
   "outputs": [],
   "source": [
    "bn.nanstd(df['Age'])"
   ]
  },
  {
   "cell_type": "code",
   "execution_count": null,
   "id": "edd33a64",
   "metadata": {},
   "outputs": [],
   "source": [
    "%%timeit # Проверка того, что bottleneck действительно ускоряет вычисление среднего\n",
    "bn.nanmean(df['Age'])"
   ]
  },
  {
   "cell_type": "code",
   "execution_count": null,
   "id": "2b63afe5",
   "metadata": {},
   "outputs": [],
   "source": [
    "%%timeit\n",
    "df['Age'].mean()"
   ]
  },
  {
   "cell_type": "markdown",
   "id": "2cdf0ba8",
   "metadata": {},
   "source": [
    "## 3 Для каждого пассажира умножьте значение столбца Fare на 1.3 и сохраните результаты как новый столбец Fare_new - 1 балл"
   ]
  },
  {
   "cell_type": "code",
   "execution_count": null,
   "id": "3f06e8b2",
   "metadata": {},
   "outputs": [],
   "source": [
    "import swifter"
   ]
  },
  {
   "cell_type": "code",
   "execution_count": null,
   "id": "341d16ff",
   "metadata": {},
   "outputs": [],
   "source": [
    "%%time\n",
    "df['Fare_new'] = df['Fare'].apply(lambda x: x * 1.3)"
   ]
  },
  {
   "cell_type": "code",
   "execution_count": null,
   "id": "9d54bf31",
   "metadata": {},
   "outputs": [],
   "source": [
    "%%time\n",
    "df['Fare_new'] = df['Fare'].swifter.apply(lambda x: x * 1.3)"
   ]
  },
  {
   "cell_type": "code",
   "execution_count": null,
   "id": "5ba08b7d",
   "metadata": {},
   "outputs": [],
   "source": [
    "%%time\n",
    "df['Fare_new'] = [row.Fare * 1.3 for row in df.itertuples()]"
   ]
  },
  {
   "cell_type": "code",
   "execution_count": null,
   "id": "79a3cbf3",
   "metadata": {},
   "outputs": [],
   "source": [
    "%%time\n",
    "df['Fare_new'] = [row.Fare * 1.3 for _,row in df.iterrows()]"
   ]
  },
  {
   "cell_type": "markdown",
   "id": "9cd96f07",
   "metadata": {},
   "source": [
    "Swifter сделал все быстрее всех. Интересно, что у itertuples результат довольно слабый по сравнению с тем, что показано в лекции."
   ]
  },
  {
   "cell_type": "code",
   "execution_count": null,
   "id": "54c9b392",
   "metadata": {},
   "outputs": [],
   "source": [
    "df.head()"
   ]
  },
  {
   "cell_type": "markdown",
   "id": "42977965",
   "metadata": {},
   "source": [
    "# Оптимизация типов pandas"
   ]
  },
  {
   "cell_type": "markdown",
   "id": "4aeba1e8",
   "metadata": {},
   "source": [
    "## 1 Считайте датасет из файла Housing.csv (это данные о ценах домов) с помощью pandas"
   ]
  },
  {
   "cell_type": "code",
   "execution_count": null,
   "id": "1c3db37e",
   "metadata": {},
   "outputs": [],
   "source": [
    "df = pd.read_csv('Housing.csv')"
   ]
  },
  {
   "cell_type": "markdown",
   "id": "17a2e327",
   "metadata": {},
   "source": [
    "## 2. Для каждого столбца определите оптимальный с точки зрения потребления памяти тип данных - напишите свои выводы в комментариях - 2 балла"
   ]
  },
  {
   "cell_type": "code",
   "execution_count": null,
   "id": "a564e68b",
   "metadata": {},
   "outputs": [],
   "source": [
    "df.head(20)"
   ]
  },
  {
   "cell_type": "code",
   "execution_count": null,
   "id": "4ed4baec",
   "metadata": {},
   "outputs": [],
   "source": [
    "df.describe()"
   ]
  },
  {
   "cell_type": "code",
   "execution_count": null,
   "id": "0f2986c1",
   "metadata": {},
   "outputs": [],
   "source": [
    "df.info()"
   ]
  },
  {
   "cell_type": "markdown",
   "id": "114b2db4",
   "metadata": {},
   "source": [
    "**Оптимальные типы данных с точки зрения использования памяти:**\n",
    "\n",
    "- *price* целочисленный от 1.750000e+06 до 1.330000e+07, влезает в тип uint32\n",
    "\n",
    "- *area* целочисленный от 1650 до 16200, влезает в тип uint16\n",
    "\n",
    "- *bedrooms* целочисленный от 1 до 6, влезает в int8\n",
    "\n",
    "- *bathrooms* целочисленный от 1 до 4, влезает в int8\n",
    "\n",
    "- *stories* целочисленный от 1 до 4, влезает в int8\n",
    "\n",
    "- *parking* целочисленный от 0 до 3, влезает в int8\n",
    "\n",
    "- *mainroad, guestroom, basement, hotwaterheating, airconditioning, prefarea* строковые, принимают два значения, можно перейти к категориальной записи\n",
    "\n",
    "- *furnishingstatus* строковый, принимает три значения, можно перейти к категориальной записи\n",
    "\n",
    "\n",
    "\n",
    "\n",
    "\n",
    "\n",
    "\n"
   ]
  },
  {
   "cell_type": "markdown",
   "id": "32ff3102",
   "metadata": {},
   "source": [
    "## 3. Поменяйте типы данных столбцов датафрейма на выбранные вами в прошлом пункте и сравните потребление памяти до и после оптимизации - 1 балл"
   ]
  },
  {
   "cell_type": "code",
   "execution_count": null,
   "id": "84aa2d98",
   "metadata": {},
   "outputs": [],
   "source": [
    "df['price'] = df['price'].astype(np.uint32)\n",
    "df['area'] = df['area'].astype(np.uint16)\n",
    "df['bedrooms'] = df['bedrooms'].astype(np.int8)\n",
    "df['bathrooms'] = df['bathrooms'].astype(np.int8)\n",
    "df['stories'] = df['stories'].astype(np.int8)\n",
    "df['parking'] = df['parking'].astype(np.int8)\n",
    "df['mainroad'] = df['mainroad'].astype(\"category\")\n",
    "df['guestroom'] = df['guestroom'].astype(\"category\")\n",
    "df['basement'] = df['basement'].astype(\"category\")\n",
    "df['hotwaterheating'] = df['hotwaterheating'].astype(\"category\")\n",
    "df['airconditioning'] = df['airconditioning'].astype(\"category\")\n",
    "df['prefarea'] = df['prefarea'].astype(\"category\")\n",
    "df['furnishingstatus'] = df['furnishingstatus'].astype(\"category\")\n"
   ]
  },
  {
   "cell_type": "code",
   "execution_count": null,
   "id": "5044662d",
   "metadata": {},
   "outputs": [],
   "source": [
    "df.info()"
   ]
  },
  {
   "cell_type": "markdown",
   "id": "2678b9ac",
   "metadata": {},
   "source": [
    "**Вывод:** оптимизация типов данных позволила уменьшить размер данных с 55 до 10 KB"
   ]
  },
  {
   "cell_type": "code",
   "execution_count": null,
   "id": "3ec9e3ad",
   "metadata": {},
   "outputs": [],
   "source": []
  }
 ],
 "metadata": {
  "kernelspec": {
   "display_name": "Python 3 (ipykernel)",
   "language": "python",
   "name": "python3"
  },
  "language_info": {
   "codemirror_mode": {
    "name": "ipython",
    "version": 3
   },
   "file_extension": ".py",
   "mimetype": "text/x-python",
   "name": "python",
   "nbconvert_exporter": "python",
   "pygments_lexer": "ipython3",
   "version": "3.12.3"
  }
 },
 "nbformat": 4,
 "nbformat_minor": 5
}
